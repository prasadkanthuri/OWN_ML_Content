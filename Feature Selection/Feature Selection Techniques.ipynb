{
 "cells": [
  {
   "cell_type": "markdown",
   "id": "4721a5eb",
   "metadata": {},
   "source": [
    "# Feature selection\n",
    "Feature selection is the process of selecting a subset of features from a dataset for use in machine learning models. The goal of feature selection is to improve the performance of the model by reducing noise and redundancy in the data, and by making the model more interpretable.\n",
    "\n",
    "Types of feature selection techniques:\n",
    "1. Filter methods\n",
    "2. Wrapper methods \n",
    "3. Embedded Methods and\n",
    "4. Hybrid Methods\n",
    "\n"
   ]
  },
  {
   "cell_type": "code",
   "execution_count": 1,
   "id": "ee53a204",
   "metadata": {},
   "outputs": [],
   "source": [
    "import numpy as np \n",
    "import pandas as pd\n",
    "import matplotlib.pyplot as plt \n",
    "import seaborn as sb\n"
   ]
  },
  {
   "cell_type": "markdown",
   "id": "fadd83bc",
   "metadata": {},
   "source": [
    "#### All the filter based techniques and Embedded techniques will be implemented on below data frame"
   ]
  },
  {
   "cell_type": "code",
   "execution_count": 9,
   "id": "6cd5dcef",
   "metadata": {},
   "outputs": [
    {
     "name": "stdout",
     "output_type": "stream",
     "text": [
      "(3672, 86)\n"
     ]
    }
   ],
   "source": [
    "df = pd.read_csv(r\"C:\\Users\\prasa\\Dropbox\\PC\\Desktop\\ML\\My own content\\Feature Selection\\Financial Distress.csv\")\n",
    "print(df.shape)"
   ]
  },
  {
   "cell_type": "code",
   "execution_count": 10,
   "id": "b8069afa",
   "metadata": {},
   "outputs": [
    {
     "data": {
      "text/html": [
       "<div>\n",
       "<style scoped>\n",
       "    .dataframe tbody tr th:only-of-type {\n",
       "        vertical-align: middle;\n",
       "    }\n",
       "\n",
       "    .dataframe tbody tr th {\n",
       "        vertical-align: top;\n",
       "    }\n",
       "\n",
       "    .dataframe thead th {\n",
       "        text-align: right;\n",
       "    }\n",
       "</style>\n",
       "<table border=\"1\" class=\"dataframe\">\n",
       "  <thead>\n",
       "    <tr style=\"text-align: right;\">\n",
       "      <th></th>\n",
       "      <th>Company</th>\n",
       "      <th>Time</th>\n",
       "      <th>Financial Distress</th>\n",
       "      <th>x1</th>\n",
       "      <th>x2</th>\n",
       "      <th>x3</th>\n",
       "      <th>x4</th>\n",
       "      <th>x5</th>\n",
       "      <th>x6</th>\n",
       "      <th>x7</th>\n",
       "      <th>...</th>\n",
       "      <th>x74</th>\n",
       "      <th>x75</th>\n",
       "      <th>x76</th>\n",
       "      <th>x77</th>\n",
       "      <th>x78</th>\n",
       "      <th>x79</th>\n",
       "      <th>x80</th>\n",
       "      <th>x81</th>\n",
       "      <th>x82</th>\n",
       "      <th>x83</th>\n",
       "    </tr>\n",
       "  </thead>\n",
       "  <tbody>\n",
       "    <tr>\n",
       "      <th>0</th>\n",
       "      <td>1</td>\n",
       "      <td>1</td>\n",
       "      <td>0.010636</td>\n",
       "      <td>1.2810</td>\n",
       "      <td>0.022934</td>\n",
       "      <td>0.87454</td>\n",
       "      <td>1.21640</td>\n",
       "      <td>0.060940</td>\n",
       "      <td>0.188270</td>\n",
       "      <td>0.52510</td>\n",
       "      <td>...</td>\n",
       "      <td>85.437</td>\n",
       "      <td>27.07</td>\n",
       "      <td>26.102</td>\n",
       "      <td>16.000</td>\n",
       "      <td>16.0</td>\n",
       "      <td>0.2</td>\n",
       "      <td>22</td>\n",
       "      <td>0.060390</td>\n",
       "      <td>30</td>\n",
       "      <td>49</td>\n",
       "    </tr>\n",
       "    <tr>\n",
       "      <th>1</th>\n",
       "      <td>1</td>\n",
       "      <td>2</td>\n",
       "      <td>-0.455970</td>\n",
       "      <td>1.2700</td>\n",
       "      <td>0.006454</td>\n",
       "      <td>0.82067</td>\n",
       "      <td>1.00490</td>\n",
       "      <td>-0.014080</td>\n",
       "      <td>0.181040</td>\n",
       "      <td>0.62288</td>\n",
       "      <td>...</td>\n",
       "      <td>107.090</td>\n",
       "      <td>31.31</td>\n",
       "      <td>30.194</td>\n",
       "      <td>17.000</td>\n",
       "      <td>16.0</td>\n",
       "      <td>0.4</td>\n",
       "      <td>22</td>\n",
       "      <td>0.010636</td>\n",
       "      <td>31</td>\n",
       "      <td>50</td>\n",
       "    </tr>\n",
       "    <tr>\n",
       "      <th>2</th>\n",
       "      <td>1</td>\n",
       "      <td>3</td>\n",
       "      <td>-0.325390</td>\n",
       "      <td>1.0529</td>\n",
       "      <td>-0.059379</td>\n",
       "      <td>0.92242</td>\n",
       "      <td>0.72926</td>\n",
       "      <td>0.020476</td>\n",
       "      <td>0.044865</td>\n",
       "      <td>0.43292</td>\n",
       "      <td>...</td>\n",
       "      <td>120.870</td>\n",
       "      <td>36.07</td>\n",
       "      <td>35.273</td>\n",
       "      <td>17.000</td>\n",
       "      <td>15.0</td>\n",
       "      <td>-0.2</td>\n",
       "      <td>22</td>\n",
       "      <td>-0.455970</td>\n",
       "      <td>32</td>\n",
       "      <td>51</td>\n",
       "    </tr>\n",
       "    <tr>\n",
       "      <th>3</th>\n",
       "      <td>1</td>\n",
       "      <td>4</td>\n",
       "      <td>-0.566570</td>\n",
       "      <td>1.1131</td>\n",
       "      <td>-0.015229</td>\n",
       "      <td>0.85888</td>\n",
       "      <td>0.80974</td>\n",
       "      <td>0.076037</td>\n",
       "      <td>0.091033</td>\n",
       "      <td>0.67546</td>\n",
       "      <td>...</td>\n",
       "      <td>54.806</td>\n",
       "      <td>39.80</td>\n",
       "      <td>38.377</td>\n",
       "      <td>17.167</td>\n",
       "      <td>16.0</td>\n",
       "      <td>5.6</td>\n",
       "      <td>22</td>\n",
       "      <td>-0.325390</td>\n",
       "      <td>33</td>\n",
       "      <td>52</td>\n",
       "    </tr>\n",
       "    <tr>\n",
       "      <th>4</th>\n",
       "      <td>2</td>\n",
       "      <td>1</td>\n",
       "      <td>1.357300</td>\n",
       "      <td>1.0623</td>\n",
       "      <td>0.107020</td>\n",
       "      <td>0.81460</td>\n",
       "      <td>0.83593</td>\n",
       "      <td>0.199960</td>\n",
       "      <td>0.047800</td>\n",
       "      <td>0.74200</td>\n",
       "      <td>...</td>\n",
       "      <td>85.437</td>\n",
       "      <td>27.07</td>\n",
       "      <td>26.102</td>\n",
       "      <td>16.000</td>\n",
       "      <td>16.0</td>\n",
       "      <td>0.2</td>\n",
       "      <td>29</td>\n",
       "      <td>1.251000</td>\n",
       "      <td>7</td>\n",
       "      <td>27</td>\n",
       "    </tr>\n",
       "  </tbody>\n",
       "</table>\n",
       "<p>5 rows × 86 columns</p>\n",
       "</div>"
      ],
      "text/plain": [
       "   Company  Time  Financial Distress      x1        x2       x3       x4  \\\n",
       "0        1     1            0.010636  1.2810  0.022934  0.87454  1.21640   \n",
       "1        1     2           -0.455970  1.2700  0.006454  0.82067  1.00490   \n",
       "2        1     3           -0.325390  1.0529 -0.059379  0.92242  0.72926   \n",
       "3        1     4           -0.566570  1.1131 -0.015229  0.85888  0.80974   \n",
       "4        2     1            1.357300  1.0623  0.107020  0.81460  0.83593   \n",
       "\n",
       "         x5        x6       x7  ...      x74    x75     x76     x77   x78  \\\n",
       "0  0.060940  0.188270  0.52510  ...   85.437  27.07  26.102  16.000  16.0   \n",
       "1 -0.014080  0.181040  0.62288  ...  107.090  31.31  30.194  17.000  16.0   \n",
       "2  0.020476  0.044865  0.43292  ...  120.870  36.07  35.273  17.000  15.0   \n",
       "3  0.076037  0.091033  0.67546  ...   54.806  39.80  38.377  17.167  16.0   \n",
       "4  0.199960  0.047800  0.74200  ...   85.437  27.07  26.102  16.000  16.0   \n",
       "\n",
       "   x79  x80       x81  x82  x83  \n",
       "0  0.2   22  0.060390   30   49  \n",
       "1  0.4   22  0.010636   31   50  \n",
       "2 -0.2   22 -0.455970   32   51  \n",
       "3  5.6   22 -0.325390   33   52  \n",
       "4  0.2   29  1.251000    7   27  \n",
       "\n",
       "[5 rows x 86 columns]"
      ]
     },
     "execution_count": 10,
     "metadata": {},
     "output_type": "execute_result"
    }
   ],
   "source": [
    "df.head()"
   ]
  },
  {
   "cell_type": "markdown",
   "id": "bed039f1",
   "metadata": {},
   "source": [
    "#### This is a classification problem. \n",
    "#### Target variable: Financial Distress\n",
    "#### if Financial Distress>-0.5, then Person will be treated as healthy. Unhealthy otherwise"
   ]
  },
  {
   "cell_type": "code",
   "execution_count": 14,
   "id": "8ac65e40",
   "metadata": {},
   "outputs": [],
   "source": [
    "def convert(x):\n",
    "    if x>-0.5:\n",
    "        return 1\n",
    "    else:\n",
    "        return 0\n",
    "df['y'] =  df['Financial Distress'].apply(convert)\n",
    "df['Financial Distress'] = df['y']\n",
    "df.drop('y',axis=1,inplace=True)"
   ]
  },
  {
   "cell_type": "code",
   "execution_count": 15,
   "id": "edd0c199",
   "metadata": {},
   "outputs": [
    {
     "data": {
      "text/plain": [
       "1    3536\n",
       "0     136\n",
       "Name: Financial Distress, dtype: int64"
      ]
     },
     "execution_count": 15,
     "metadata": {},
     "output_type": "execute_result"
    }
   ],
   "source": [
    "df['Financial Distress'].value_counts()"
   ]
  },
  {
   "cell_type": "code",
   "execution_count": 92,
   "id": "eb7dca76",
   "metadata": {},
   "outputs": [],
   "source": [
    "X = df.drop('Financial Distress',axis=1)\n",
    "y = df['Financial Distress'] "
   ]
  },
  {
   "cell_type": "markdown",
   "id": "bcb1ac91",
   "metadata": {},
   "source": [
    "### Implenting the RF classification model in order to check the performance before and after implementing feature selection\n"
   ]
  },
  {
   "cell_type": "code",
   "execution_count": 16,
   "id": "8b82ec4e",
   "metadata": {},
   "outputs": [],
   "source": [
    "from sklearn.model_selection import cross_val_score\n",
    "from sklearn.ensemble import RandomForestClassifier\n",
    "from sklearn.metrics  import accuracy_score, confusion_matrix, classification_report"
   ]
  },
  {
   "cell_type": "code",
   "execution_count": 17,
   "id": "7ac692c8",
   "metadata": {},
   "outputs": [],
   "source": [
    "RF = RandomForestClassifier(n_estimators=30,n_jobs=1)"
   ]
  },
  {
   "cell_type": "code",
   "execution_count": 71,
   "id": "ebf0334f",
   "metadata": {},
   "outputs": [
    {
     "name": "stdout",
     "output_type": "stream",
     "text": [
      "0.9577886710239651\n"
     ]
    }
   ],
   "source": [
    "print(cross_val_score(estimator=RF,X=X,y=y,cv=6).mean())"
   ]
  },
  {
   "cell_type": "markdown",
   "id": "af098800",
   "metadata": {},
   "source": [
    "## 1. Filter based methods:\n",
    "Selecting the features based on their individual statistical measures such as their variance, correlation with target variable.\n",
    "Examples of filter based methods are:\n",
    "1. Variance threshold\n",
    "2. Correlation\n",
    "3. ANOVA\n",
    "4. Chi2 \n",
    "5. Mutual info\n"
   ]
  },
  {
   "cell_type": "markdown",
   "id": "77b9ab74",
   "metadata": {},
   "source": [
    "### 1.1. Variance threshold method:\n",
    "Dropping constant/ quasi constant features.\n"
   ]
  },
  {
   "cell_type": "code",
   "execution_count": 63,
   "id": "3e8e3ab2",
   "metadata": {},
   "outputs": [],
   "source": [
    "from sklearn.feature_selection import VarianceThreshold\n",
    "VarThr = VarianceThreshold(threshold=0.08)"
   ]
  },
  {
   "cell_type": "code",
   "execution_count": 64,
   "id": "f76e7fca",
   "metadata": {},
   "outputs": [
    {
     "data": {
      "text/html": [
       "<style>#sk-container-id-7 {color: black;background-color: white;}#sk-container-id-7 pre{padding: 0;}#sk-container-id-7 div.sk-toggleable {background-color: white;}#sk-container-id-7 label.sk-toggleable__label {cursor: pointer;display: block;width: 100%;margin-bottom: 0;padding: 0.3em;box-sizing: border-box;text-align: center;}#sk-container-id-7 label.sk-toggleable__label-arrow:before {content: \"▸\";float: left;margin-right: 0.25em;color: #696969;}#sk-container-id-7 label.sk-toggleable__label-arrow:hover:before {color: black;}#sk-container-id-7 div.sk-estimator:hover label.sk-toggleable__label-arrow:before {color: black;}#sk-container-id-7 div.sk-toggleable__content {max-height: 0;max-width: 0;overflow: hidden;text-align: left;background-color: #f0f8ff;}#sk-container-id-7 div.sk-toggleable__content pre {margin: 0.2em;color: black;border-radius: 0.25em;background-color: #f0f8ff;}#sk-container-id-7 input.sk-toggleable__control:checked~div.sk-toggleable__content {max-height: 200px;max-width: 100%;overflow: auto;}#sk-container-id-7 input.sk-toggleable__control:checked~label.sk-toggleable__label-arrow:before {content: \"▾\";}#sk-container-id-7 div.sk-estimator input.sk-toggleable__control:checked~label.sk-toggleable__label {background-color: #d4ebff;}#sk-container-id-7 div.sk-label input.sk-toggleable__control:checked~label.sk-toggleable__label {background-color: #d4ebff;}#sk-container-id-7 input.sk-hidden--visually {border: 0;clip: rect(1px 1px 1px 1px);clip: rect(1px, 1px, 1px, 1px);height: 1px;margin: -1px;overflow: hidden;padding: 0;position: absolute;width: 1px;}#sk-container-id-7 div.sk-estimator {font-family: monospace;background-color: #f0f8ff;border: 1px dotted black;border-radius: 0.25em;box-sizing: border-box;margin-bottom: 0.5em;}#sk-container-id-7 div.sk-estimator:hover {background-color: #d4ebff;}#sk-container-id-7 div.sk-parallel-item::after {content: \"\";width: 100%;border-bottom: 1px solid gray;flex-grow: 1;}#sk-container-id-7 div.sk-label:hover label.sk-toggleable__label {background-color: #d4ebff;}#sk-container-id-7 div.sk-serial::before {content: \"\";position: absolute;border-left: 1px solid gray;box-sizing: border-box;top: 0;bottom: 0;left: 50%;z-index: 0;}#sk-container-id-7 div.sk-serial {display: flex;flex-direction: column;align-items: center;background-color: white;padding-right: 0.2em;padding-left: 0.2em;position: relative;}#sk-container-id-7 div.sk-item {position: relative;z-index: 1;}#sk-container-id-7 div.sk-parallel {display: flex;align-items: stretch;justify-content: center;background-color: white;position: relative;}#sk-container-id-7 div.sk-item::before, #sk-container-id-7 div.sk-parallel-item::before {content: \"\";position: absolute;border-left: 1px solid gray;box-sizing: border-box;top: 0;bottom: 0;left: 50%;z-index: -1;}#sk-container-id-7 div.sk-parallel-item {display: flex;flex-direction: column;z-index: 1;position: relative;background-color: white;}#sk-container-id-7 div.sk-parallel-item:first-child::after {align-self: flex-end;width: 50%;}#sk-container-id-7 div.sk-parallel-item:last-child::after {align-self: flex-start;width: 50%;}#sk-container-id-7 div.sk-parallel-item:only-child::after {width: 0;}#sk-container-id-7 div.sk-dashed-wrapped {border: 1px dashed gray;margin: 0 0.4em 0.5em 0.4em;box-sizing: border-box;padding-bottom: 0.4em;background-color: white;}#sk-container-id-7 div.sk-label label {font-family: monospace;font-weight: bold;display: inline-block;line-height: 1.2em;}#sk-container-id-7 div.sk-label-container {text-align: center;}#sk-container-id-7 div.sk-container {/* jupyter's `normalize.less` sets `[hidden] { display: none; }` but bootstrap.min.css set `[hidden] { display: none !important; }` so we also need the `!important` here to be able to override the default hidden behavior on the sphinx rendered scikit-learn.org. See: https://github.com/scikit-learn/scikit-learn/issues/21755 */display: inline-block !important;position: relative;}#sk-container-id-7 div.sk-text-repr-fallback {display: none;}</style><div id=\"sk-container-id-7\" class=\"sk-top-container\"><div class=\"sk-text-repr-fallback\"><pre>VarianceThreshold(threshold=0.08)</pre><b>In a Jupyter environment, please rerun this cell to show the HTML representation or trust the notebook. <br />On GitHub, the HTML representation is unable to render, please try loading this page with nbviewer.org.</b></div><div class=\"sk-container\" hidden><div class=\"sk-item\"><div class=\"sk-estimator sk-toggleable\"><input class=\"sk-toggleable__control sk-hidden--visually\" id=\"sk-estimator-id-7\" type=\"checkbox\" checked><label for=\"sk-estimator-id-7\" class=\"sk-toggleable__label sk-toggleable__label-arrow\">VarianceThreshold</label><div class=\"sk-toggleable__content\"><pre>VarianceThreshold(threshold=0.08)</pre></div></div></div></div></div>"
      ],
      "text/plain": [
       "VarianceThreshold(threshold=0.08)"
      ]
     },
     "execution_count": 64,
     "metadata": {},
     "output_type": "execute_result"
    }
   ],
   "source": [
    "VarThr.fit(X,y)"
   ]
  },
  {
   "cell_type": "code",
   "execution_count": 65,
   "id": "913c422c",
   "metadata": {},
   "outputs": [
    {
     "data": {
      "text/plain": [
       "(3672, 65)"
      ]
     },
     "execution_count": 65,
     "metadata": {},
     "output_type": "execute_result"
    }
   ],
   "source": [
    "X_vartance_thr_method = X[X.columns[VarThr.get_support()]]\n",
    "X_vartance_thr_method.shape"
   ]
  },
  {
   "cell_type": "markdown",
   "id": "db45b004",
   "metadata": {},
   "source": [
    "#### Note: No.of features are reduced from 85 to 65 by droping the features that are exibiting the low variance"
   ]
  },
  {
   "cell_type": "markdown",
   "id": "bc4ffd19",
   "metadata": {},
   "source": [
    "#### Implementing the model to determine the accuracy after feature selection"
   ]
  },
  {
   "cell_type": "code",
   "execution_count": 73,
   "id": "4a911b80",
   "metadata": {},
   "outputs": [
    {
     "name": "stdout",
     "output_type": "stream",
     "text": [
      "0.9610566448801743\n"
     ]
    }
   ],
   "source": [
    "print(cross_val_score(estimator=RF,X= X_vartance_thr_method,y=y,cv=6).mean())"
   ]
  },
  {
   "cell_type": "markdown",
   "id": "976921a3",
   "metadata": {},
   "source": [
    "#### Accuracy improved slightly. Eventhough the accuracy is not heavily improved but 20 Features are dropped ==> Calculation redundancy is reduced to some extent."
   ]
  },
  {
   "cell_type": "markdown",
   "id": "9c785590",
   "metadata": {},
   "source": [
    "#### Demerits:\n",
    "1. Feature - Feature or Feature - Target interactions are not considered in this method"
   ]
  },
  {
   "cell_type": "markdown",
   "id": "79a6e90d",
   "metadata": {},
   "source": [
    "### 1.2. Correlation threshold method:\n",
    "Involves measures the Correlation of each feature with the other variable and dropping the features that are having high correlation than the given threshold value"
   ]
  },
  {
   "cell_type": "code",
   "execution_count": 75,
   "id": "9a9fa70e",
   "metadata": {},
   "outputs": [
    {
     "name": "stdout",
     "output_type": "stream",
     "text": [
      "(85, 85)\n"
     ]
    }
   ],
   "source": [
    "# Creating correlation matrix\n",
    "corr_matrix = X.corr()\n",
    "print(corr_matrix.shape)\n"
   ]
  },
  {
   "cell_type": "code",
   "execution_count": 89,
   "id": "02bca19a",
   "metadata": {},
   "outputs": [
    {
     "name": "stdout",
     "output_type": "stream",
     "text": [
      "['x48', 'x81', 'x62', 'x49', 'x52', 'x53', 'x38', 'x7', 'x77', 'x76', 'x75', 'x34']\n",
      "No.of features to drop :  12\n"
     ]
    }
   ],
   "source": [
    "features_to_drop = []\n",
    "for i in range(len(corr_matrix)):\n",
    "    for j in range(0,i):\n",
    "        if corr_matrix.iloc[i,j]>0.9:\n",
    "            features_to_drop.append(corr_matrix.columns[i])\n",
    "features_to_drop = list(set(list(features_to_drop)))\n",
    "print(features_to_drop)\n",
    "print(\"No.of features to drop : \",len(features_to_drop))"
   ]
  },
  {
   "cell_type": "code",
   "execution_count": 93,
   "id": "81bcfc47",
   "metadata": {},
   "outputs": [
    {
     "data": {
      "text/plain": [
       "(3672, 73)"
      ]
     },
     "execution_count": 93,
     "metadata": {},
     "output_type": "execute_result"
    }
   ],
   "source": [
    "X_corre_method = X.drop(columns=features_to_drop)\n",
    "X_corre_method.shape"
   ]
  },
  {
   "cell_type": "markdown",
   "id": "25a8a7d1",
   "metadata": {},
   "source": [
    "#### Note: With the help of the above code, we can remove the features that are highly correlated"
   ]
  },
  {
   "cell_type": "code",
   "execution_count": 94,
   "id": "1b328e20",
   "metadata": {},
   "outputs": [
    {
     "name": "stdout",
     "output_type": "stream",
     "text": [
      "0.9613289760348583\n"
     ]
    }
   ],
   "source": [
    "print(cross_val_score(estimator=RF,X=X_corre_method,y=y,cv=6).mean())"
   ]
  },
  {
   "cell_type": "markdown",
   "id": "fbee3a33",
   "metadata": {},
   "source": [
    "#### Eventhough the acccuracy is not improved to the significant level, No.of features are reduced by 12, that will definitely reduce the no.of.computations required while making decisions. "
   ]
  },
  {
   "cell_type": "markdown",
   "id": "4dfddf54",
   "metadata": {},
   "source": [
    "#### Demerits: \n",
    "1. Can only captures the linear relations, Complex non linear relations can't be cptured with this technique."
   ]
  },
  {
   "cell_type": "markdown",
   "id": "e15b6ecf",
   "metadata": {},
   "source": [
    "### 1.3. ANOVA\n",
    "Finds the relation between numerical and categorical data where the no.of categories should be greater than 2"
   ]
  },
  {
   "cell_type": "code",
   "execution_count": 97,
   "id": "b0ee83c4",
   "metadata": {},
   "outputs": [],
   "source": [
    "from sklearn.feature_selection import f_classif\n",
    "from sklearn.feature_selection import SelectKBest"
   ]
  },
  {
   "cell_type": "code",
   "execution_count": 120,
   "id": "3e574b41",
   "metadata": {},
   "outputs": [],
   "source": [
    "sel = SelectKBest(f_classif,k=40)\n",
    "sel_k = sel.fit(X=X,y=y)"
   ]
  },
  {
   "cell_type": "code",
   "execution_count": 121,
   "id": "51493c74",
   "metadata": {},
   "outputs": [
    {
     "name": "stdout",
     "output_type": "stream",
     "text": [
      "(3672, 40)\n"
     ]
    }
   ],
   "source": [
    "print(X[X.columns[sel_k.get_support()]].shape)\n",
    "X_ANOVA = X[X.columns[sel_k.get_support()]]"
   ]
  },
  {
   "cell_type": "code",
   "execution_count": 122,
   "id": "6e1502f9",
   "metadata": {},
   "outputs": [
    {
     "name": "stdout",
     "output_type": "stream",
     "text": [
      "0.960511982570806\n"
     ]
    }
   ],
   "source": [
    "print(cross_val_score(estimator=RF,X=X_ANOVA,y=y,cv=6).mean())"
   ]
  },
  {
   "cell_type": "markdown",
   "id": "1104222e",
   "metadata": {},
   "source": [
    "#### Note: This is the beauty achieved with feature selection. Same accuracy is achieved by dropping half of the features (43).  "
   ]
  },
  {
   "cell_type": "markdown",
   "id": "eaf5674c",
   "metadata": {},
   "source": [
    "#### Demerits: \n",
    "1. Considers the interactions between Features and Target variable. Neglects the Feature - Feature interactions.\n",
    "2. ANOVA test assumes Normality of the data, which may not true all the times."
   ]
  },
  {
   "cell_type": "markdown",
   "id": "b0d0cabe",
   "metadata": {},
   "source": [
    "### 1.4.Chi2 test based method:\n",
    "Chi2- test finds the relation between 2 categorical variables"
   ]
  },
  {
   "cell_type": "markdown",
   "id": "d1d1e98d",
   "metadata": {},
   "source": [
    "Current data frame is not containing any categorical variables to perform Chi2 test. \n",
    "We will use Titanic data set for implementing the Chi2 test."
   ]
  },
  {
   "cell_type": "code",
   "execution_count": 128,
   "id": "36d2c56e",
   "metadata": {},
   "outputs": [
    {
     "data": {
      "text/html": [
       "<div>\n",
       "<style scoped>\n",
       "    .dataframe tbody tr th:only-of-type {\n",
       "        vertical-align: middle;\n",
       "    }\n",
       "\n",
       "    .dataframe tbody tr th {\n",
       "        vertical-align: top;\n",
       "    }\n",
       "\n",
       "    .dataframe thead th {\n",
       "        text-align: right;\n",
       "    }\n",
       "</style>\n",
       "<table border=\"1\" class=\"dataframe\">\n",
       "  <thead>\n",
       "    <tr style=\"text-align: right;\">\n",
       "      <th></th>\n",
       "      <th>PassengerId</th>\n",
       "      <th>Survived</th>\n",
       "      <th>Pclass</th>\n",
       "      <th>Name</th>\n",
       "      <th>Sex</th>\n",
       "      <th>Age</th>\n",
       "      <th>SibSp</th>\n",
       "      <th>Parch</th>\n",
       "      <th>Ticket</th>\n",
       "      <th>Fare</th>\n",
       "      <th>Cabin</th>\n",
       "      <th>Embarked</th>\n",
       "    </tr>\n",
       "  </thead>\n",
       "  <tbody>\n",
       "    <tr>\n",
       "      <th>0</th>\n",
       "      <td>1</td>\n",
       "      <td>0</td>\n",
       "      <td>3</td>\n",
       "      <td>Braund, Mr. Owen Harris</td>\n",
       "      <td>male</td>\n",
       "      <td>22.0</td>\n",
       "      <td>1</td>\n",
       "      <td>0</td>\n",
       "      <td>A/5 21171</td>\n",
       "      <td>7.2500</td>\n",
       "      <td>NaN</td>\n",
       "      <td>S</td>\n",
       "    </tr>\n",
       "    <tr>\n",
       "      <th>1</th>\n",
       "      <td>2</td>\n",
       "      <td>1</td>\n",
       "      <td>1</td>\n",
       "      <td>Cumings, Mrs. John Bradley (Florence Briggs Th...</td>\n",
       "      <td>female</td>\n",
       "      <td>38.0</td>\n",
       "      <td>1</td>\n",
       "      <td>0</td>\n",
       "      <td>PC 17599</td>\n",
       "      <td>71.2833</td>\n",
       "      <td>C85</td>\n",
       "      <td>C</td>\n",
       "    </tr>\n",
       "    <tr>\n",
       "      <th>2</th>\n",
       "      <td>3</td>\n",
       "      <td>1</td>\n",
       "      <td>3</td>\n",
       "      <td>Heikkinen, Miss. Laina</td>\n",
       "      <td>female</td>\n",
       "      <td>26.0</td>\n",
       "      <td>0</td>\n",
       "      <td>0</td>\n",
       "      <td>STON/O2. 3101282</td>\n",
       "      <td>7.9250</td>\n",
       "      <td>NaN</td>\n",
       "      <td>S</td>\n",
       "    </tr>\n",
       "    <tr>\n",
       "      <th>3</th>\n",
       "      <td>4</td>\n",
       "      <td>1</td>\n",
       "      <td>1</td>\n",
       "      <td>Futrelle, Mrs. Jacques Heath (Lily May Peel)</td>\n",
       "      <td>female</td>\n",
       "      <td>35.0</td>\n",
       "      <td>1</td>\n",
       "      <td>0</td>\n",
       "      <td>113803</td>\n",
       "      <td>53.1000</td>\n",
       "      <td>C123</td>\n",
       "      <td>S</td>\n",
       "    </tr>\n",
       "    <tr>\n",
       "      <th>4</th>\n",
       "      <td>5</td>\n",
       "      <td>0</td>\n",
       "      <td>3</td>\n",
       "      <td>Allen, Mr. William Henry</td>\n",
       "      <td>male</td>\n",
       "      <td>35.0</td>\n",
       "      <td>0</td>\n",
       "      <td>0</td>\n",
       "      <td>373450</td>\n",
       "      <td>8.0500</td>\n",
       "      <td>NaN</td>\n",
       "      <td>S</td>\n",
       "    </tr>\n",
       "  </tbody>\n",
       "</table>\n",
       "</div>"
      ],
      "text/plain": [
       "   PassengerId  Survived  Pclass  \\\n",
       "0            1         0       3   \n",
       "1            2         1       1   \n",
       "2            3         1       3   \n",
       "3            4         1       1   \n",
       "4            5         0       3   \n",
       "\n",
       "                                                Name     Sex   Age  SibSp  \\\n",
       "0                            Braund, Mr. Owen Harris    male  22.0      1   \n",
       "1  Cumings, Mrs. John Bradley (Florence Briggs Th...  female  38.0      1   \n",
       "2                             Heikkinen, Miss. Laina  female  26.0      0   \n",
       "3       Futrelle, Mrs. Jacques Heath (Lily May Peel)  female  35.0      1   \n",
       "4                           Allen, Mr. William Henry    male  35.0      0   \n",
       "\n",
       "   Parch            Ticket     Fare Cabin Embarked  \n",
       "0      0         A/5 21171   7.2500   NaN        S  \n",
       "1      0          PC 17599  71.2833   C85        C  \n",
       "2      0  STON/O2. 3101282   7.9250   NaN        S  \n",
       "3      0            113803  53.1000  C123        S  \n",
       "4      0            373450   8.0500   NaN        S  "
      ]
     },
     "execution_count": 128,
     "metadata": {},
     "output_type": "execute_result"
    }
   ],
   "source": [
    "df1 = pd.read_csv(r\"C:\\Users\\prasa\\Dropbox\\PC\\Desktop\\ML\\My own content\\Feature Selection\\titanic.csv\")\n",
    "df1.head()"
   ]
  },
  {
   "cell_type": "code",
   "execution_count": 130,
   "id": "7675895a",
   "metadata": {},
   "outputs": [
    {
     "data": {
      "text/plain": [
       "(183, 12)"
      ]
     },
     "execution_count": 130,
     "metadata": {},
     "output_type": "execute_result"
    }
   ],
   "source": [
    "df1.dropna(inplace=True)\n",
    "df1.shape"
   ]
  },
  {
   "cell_type": "code",
   "execution_count": 187,
   "id": "476ea616",
   "metadata": {},
   "outputs": [],
   "source": [
    "# Target variable: Survived\n",
    "X_titanic = df1.drop('Survived',axis=1)\n",
    "y_titanic = df1['Survived']\n"
   ]
  },
  {
   "cell_type": "code",
   "execution_count": 138,
   "id": "d3fca65b",
   "metadata": {},
   "outputs": [
    {
     "data": {
      "text/html": [
       "<div>\n",
       "<style scoped>\n",
       "    .dataframe tbody tr th:only-of-type {\n",
       "        vertical-align: middle;\n",
       "    }\n",
       "\n",
       "    .dataframe tbody tr th {\n",
       "        vertical-align: top;\n",
       "    }\n",
       "\n",
       "    .dataframe thead th {\n",
       "        text-align: right;\n",
       "    }\n",
       "</style>\n",
       "<table border=\"1\" class=\"dataframe\">\n",
       "  <thead>\n",
       "    <tr style=\"text-align: right;\">\n",
       "      <th></th>\n",
       "      <th>Pclass</th>\n",
       "      <th>Sex</th>\n",
       "      <th>SibSp</th>\n",
       "      <th>Parch</th>\n",
       "      <th>Cabin</th>\n",
       "      <th>Embarked</th>\n",
       "    </tr>\n",
       "  </thead>\n",
       "  <tbody>\n",
       "    <tr>\n",
       "      <th>1</th>\n",
       "      <td>1</td>\n",
       "      <td>female</td>\n",
       "      <td>1</td>\n",
       "      <td>0</td>\n",
       "      <td>C85</td>\n",
       "      <td>C</td>\n",
       "    </tr>\n",
       "    <tr>\n",
       "      <th>3</th>\n",
       "      <td>1</td>\n",
       "      <td>female</td>\n",
       "      <td>1</td>\n",
       "      <td>0</td>\n",
       "      <td>C123</td>\n",
       "      <td>S</td>\n",
       "    </tr>\n",
       "    <tr>\n",
       "      <th>6</th>\n",
       "      <td>1</td>\n",
       "      <td>male</td>\n",
       "      <td>0</td>\n",
       "      <td>0</td>\n",
       "      <td>E46</td>\n",
       "      <td>S</td>\n",
       "    </tr>\n",
       "    <tr>\n",
       "      <th>10</th>\n",
       "      <td>3</td>\n",
       "      <td>female</td>\n",
       "      <td>1</td>\n",
       "      <td>1</td>\n",
       "      <td>G6</td>\n",
       "      <td>S</td>\n",
       "    </tr>\n",
       "    <tr>\n",
       "      <th>11</th>\n",
       "      <td>1</td>\n",
       "      <td>female</td>\n",
       "      <td>0</td>\n",
       "      <td>0</td>\n",
       "      <td>C103</td>\n",
       "      <td>S</td>\n",
       "    </tr>\n",
       "    <tr>\n",
       "      <th>...</th>\n",
       "      <td>...</td>\n",
       "      <td>...</td>\n",
       "      <td>...</td>\n",
       "      <td>...</td>\n",
       "      <td>...</td>\n",
       "      <td>...</td>\n",
       "    </tr>\n",
       "    <tr>\n",
       "      <th>871</th>\n",
       "      <td>1</td>\n",
       "      <td>female</td>\n",
       "      <td>1</td>\n",
       "      <td>1</td>\n",
       "      <td>D35</td>\n",
       "      <td>S</td>\n",
       "    </tr>\n",
       "    <tr>\n",
       "      <th>872</th>\n",
       "      <td>1</td>\n",
       "      <td>male</td>\n",
       "      <td>0</td>\n",
       "      <td>0</td>\n",
       "      <td>B51 B53 B55</td>\n",
       "      <td>S</td>\n",
       "    </tr>\n",
       "    <tr>\n",
       "      <th>879</th>\n",
       "      <td>1</td>\n",
       "      <td>female</td>\n",
       "      <td>0</td>\n",
       "      <td>1</td>\n",
       "      <td>C50</td>\n",
       "      <td>C</td>\n",
       "    </tr>\n",
       "    <tr>\n",
       "      <th>887</th>\n",
       "      <td>1</td>\n",
       "      <td>female</td>\n",
       "      <td>0</td>\n",
       "      <td>0</td>\n",
       "      <td>B42</td>\n",
       "      <td>S</td>\n",
       "    </tr>\n",
       "    <tr>\n",
       "      <th>889</th>\n",
       "      <td>1</td>\n",
       "      <td>male</td>\n",
       "      <td>0</td>\n",
       "      <td>0</td>\n",
       "      <td>C148</td>\n",
       "      <td>C</td>\n",
       "    </tr>\n",
       "  </tbody>\n",
       "</table>\n",
       "<p>183 rows × 6 columns</p>\n",
       "</div>"
      ],
      "text/plain": [
       "     Pclass     Sex  SibSp  Parch        Cabin Embarked\n",
       "1         1  female      1      0          C85        C\n",
       "3         1  female      1      0         C123        S\n",
       "6         1    male      0      0          E46        S\n",
       "10        3  female      1      1           G6        S\n",
       "11        1  female      0      0         C103        S\n",
       "..      ...     ...    ...    ...          ...      ...\n",
       "871       1  female      1      1          D35        S\n",
       "872       1    male      0      0  B51 B53 B55        S\n",
       "879       1  female      0      1          C50        C\n",
       "887       1  female      0      0          B42        S\n",
       "889       1    male      0      0         C148        C\n",
       "\n",
       "[183 rows x 6 columns]"
      ]
     },
     "execution_count": 138,
     "metadata": {},
     "output_type": "execute_result"
    }
   ],
   "source": [
    "# Considering only limited features in X_titanic\n",
    "X_titanic = X_titanic[['Pclass','Sex','SibSp','Parch','Cabin','Embarked']]\n",
    "X_titanic"
   ]
  },
  {
   "cell_type": "code",
   "execution_count": 134,
   "id": "6d23a61d",
   "metadata": {},
   "outputs": [],
   "source": [
    "# Performing label encoding \n",
    "from sklearn.preprocessing import LabelEncoder\n",
    "LE = LabelEncoder()"
   ]
  },
  {
   "cell_type": "code",
   "execution_count": 141,
   "id": "e52ca03d",
   "metadata": {},
   "outputs": [
    {
     "data": {
      "text/html": [
       "<div>\n",
       "<style scoped>\n",
       "    .dataframe tbody tr th:only-of-type {\n",
       "        vertical-align: middle;\n",
       "    }\n",
       "\n",
       "    .dataframe tbody tr th {\n",
       "        vertical-align: top;\n",
       "    }\n",
       "\n",
       "    .dataframe thead th {\n",
       "        text-align: right;\n",
       "    }\n",
       "</style>\n",
       "<table border=\"1\" class=\"dataframe\">\n",
       "  <thead>\n",
       "    <tr style=\"text-align: right;\">\n",
       "      <th></th>\n",
       "      <th>Pclass</th>\n",
       "      <th>Sex</th>\n",
       "      <th>SibSp</th>\n",
       "      <th>Parch</th>\n",
       "      <th>Cabin</th>\n",
       "      <th>Embarked</th>\n",
       "    </tr>\n",
       "  </thead>\n",
       "  <tbody>\n",
       "    <tr>\n",
       "      <th>1</th>\n",
       "      <td>1</td>\n",
       "      <td>0</td>\n",
       "      <td>1</td>\n",
       "      <td>0</td>\n",
       "      <td>72</td>\n",
       "      <td>0</td>\n",
       "    </tr>\n",
       "    <tr>\n",
       "      <th>3</th>\n",
       "      <td>1</td>\n",
       "      <td>0</td>\n",
       "      <td>1</td>\n",
       "      <td>0</td>\n",
       "      <td>48</td>\n",
       "      <td>2</td>\n",
       "    </tr>\n",
       "    <tr>\n",
       "      <th>6</th>\n",
       "      <td>1</td>\n",
       "      <td>1</td>\n",
       "      <td>0</td>\n",
       "      <td>0</td>\n",
       "      <td>117</td>\n",
       "      <td>2</td>\n",
       "    </tr>\n",
       "    <tr>\n",
       "      <th>10</th>\n",
       "      <td>3</td>\n",
       "      <td>0</td>\n",
       "      <td>1</td>\n",
       "      <td>1</td>\n",
       "      <td>131</td>\n",
       "      <td>2</td>\n",
       "    </tr>\n",
       "    <tr>\n",
       "      <th>11</th>\n",
       "      <td>1</td>\n",
       "      <td>0</td>\n",
       "      <td>0</td>\n",
       "      <td>0</td>\n",
       "      <td>43</td>\n",
       "      <td>2</td>\n",
       "    </tr>\n",
       "    <tr>\n",
       "      <th>...</th>\n",
       "      <td>...</td>\n",
       "      <td>...</td>\n",
       "      <td>...</td>\n",
       "      <td>...</td>\n",
       "      <td>...</td>\n",
       "      <td>...</td>\n",
       "    </tr>\n",
       "    <tr>\n",
       "      <th>871</th>\n",
       "      <td>1</td>\n",
       "      <td>0</td>\n",
       "      <td>1</td>\n",
       "      <td>1</td>\n",
       "      <td>91</td>\n",
       "      <td>2</td>\n",
       "    </tr>\n",
       "    <tr>\n",
       "      <th>872</th>\n",
       "      <td>1</td>\n",
       "      <td>1</td>\n",
       "      <td>0</td>\n",
       "      <td>0</td>\n",
       "      <td>29</td>\n",
       "      <td>2</td>\n",
       "    </tr>\n",
       "    <tr>\n",
       "      <th>879</th>\n",
       "      <td>1</td>\n",
       "      <td>0</td>\n",
       "      <td>0</td>\n",
       "      <td>1</td>\n",
       "      <td>61</td>\n",
       "      <td>0</td>\n",
       "    </tr>\n",
       "    <tr>\n",
       "      <th>887</th>\n",
       "      <td>1</td>\n",
       "      <td>0</td>\n",
       "      <td>0</td>\n",
       "      <td>0</td>\n",
       "      <td>25</td>\n",
       "      <td>2</td>\n",
       "    </tr>\n",
       "    <tr>\n",
       "      <th>889</th>\n",
       "      <td>1</td>\n",
       "      <td>1</td>\n",
       "      <td>0</td>\n",
       "      <td>0</td>\n",
       "      <td>52</td>\n",
       "      <td>0</td>\n",
       "    </tr>\n",
       "  </tbody>\n",
       "</table>\n",
       "<p>183 rows × 6 columns</p>\n",
       "</div>"
      ],
      "text/plain": [
       "     Pclass  Sex  SibSp  Parch  Cabin  Embarked\n",
       "1         1    0      1      0     72         0\n",
       "3         1    0      1      0     48         2\n",
       "6         1    1      0      0    117         2\n",
       "10        3    0      1      1    131         2\n",
       "11        1    0      0      0     43         2\n",
       "..      ...  ...    ...    ...    ...       ...\n",
       "871       1    0      1      1     91         2\n",
       "872       1    1      0      0     29         2\n",
       "879       1    0      0      1     61         0\n",
       "887       1    0      0      0     25         2\n",
       "889       1    1      0      0     52         0\n",
       "\n",
       "[183 rows x 6 columns]"
      ]
     },
     "execution_count": 141,
     "metadata": {},
     "output_type": "execute_result"
    }
   ],
   "source": [
    "columns_to_encode = ['Sex','SibSp','Cabin','Embarked']\n",
    "for i in columns_to_encode:\n",
    "    X_titanic[i].fillna(X_titanic[i].mode())\n",
    "    X_titanic[i] = LE.fit_transform(X_titanic[i])\n",
    "X_titanic"
   ]
  },
  {
   "cell_type": "markdown",
   "id": "2fafbee6",
   "metadata": {},
   "source": [
    "#### Performing Chi2 test"
   ]
  },
  {
   "cell_type": "code",
   "execution_count": 149,
   "id": "5fe2161a",
   "metadata": {},
   "outputs": [],
   "source": [
    "from scipy.stats import chi2_contingency"
   ]
  },
  {
   "cell_type": "code",
   "execution_count": 162,
   "id": "1a0088e4",
   "metadata": {},
   "outputs": [
    {
     "name": "stdout",
     "output_type": "stream",
     "text": [
      "('Sex', 1.8568580662867508e-12)\n"
     ]
    }
   ],
   "source": [
    "closely_related_features = []\n",
    "for i in X_titanic.columns:\n",
    "        crosstab = pd.crosstab(X_titanic[i],y_titanic)\n",
    "        chi2 = chi2_contingency(crosstab)\n",
    "        if chi2.pvalue<0.05:\n",
    "            closely_related_features.append((i,chi2.pvalue))\n",
    "for i in closely_related_features:\n",
    "    print(i)"
   ]
  },
  {
   "cell_type": "markdown",
   "id": "fa9e3578",
   "metadata": {},
   "source": [
    "#### Lesser the value of p, higher the association between variables. As per the above results  Sex is closely associated with the target variable"
   ]
  },
  {
   "cell_type": "markdown",
   "id": "77ff70c8",
   "metadata": {},
   "source": [
    "#### Demerits:\n",
    "Only suitable for categorical variables. Not useful when the data is numerical"
   ]
  },
  {
   "cell_type": "markdown",
   "id": "45d82921",
   "metadata": {},
   "source": [
    "### 1.5. Mutual Info Gain Method: \n",
    "Measure of dependency between 2 Random variables. It quantifies the amount of information obtained about one RV by observing other RV.\n",
    "It is similar to Chi2 test, and it can be applied to numeric data as well"
   ]
  },
  {
   "cell_type": "code",
   "execution_count": 164,
   "id": "ab23d43a",
   "metadata": {},
   "outputs": [
    {
     "data": {
      "text/plain": [
       "array([0.01691857, 0.16313987, 0.        , 0.        , 0.        ,\n",
       "       0.0104994 ])"
      ]
     },
     "execution_count": 164,
     "metadata": {},
     "output_type": "execute_result"
    }
   ],
   "source": [
    "from sklearn.feature_selection import mutual_info_classif\n",
    "mutual_info_classif(X_titanic,y_titanic)"
   ]
  },
  {
   "cell_type": "markdown",
   "id": "63b4c845",
   "metadata": {},
   "source": [
    "#### Higher the value of Mutual Info gain, Higher the association. As per the above result AGE column is highly associated with Target variable comparing to other features in the dataframe considered"
   ]
  },
  {
   "cell_type": "markdown",
   "id": "c9fd0c9e",
   "metadata": {},
   "source": [
    "## 2. Wrapper methods:\n",
    "Wrapper methods search for subsets of features that optimizes the performance of the ML model."
   ]
  },
  {
   "cell_type": "code",
   "execution_count": 214,
   "id": "7af309c3",
   "metadata": {},
   "outputs": [
    {
     "data": {
      "text/html": [
       "<div>\n",
       "<style scoped>\n",
       "    .dataframe tbody tr th:only-of-type {\n",
       "        vertical-align: middle;\n",
       "    }\n",
       "\n",
       "    .dataframe tbody tr th {\n",
       "        vertical-align: top;\n",
       "    }\n",
       "\n",
       "    .dataframe thead th {\n",
       "        text-align: right;\n",
       "    }\n",
       "</style>\n",
       "<table border=\"1\" class=\"dataframe\">\n",
       "  <thead>\n",
       "    <tr style=\"text-align: right;\">\n",
       "      <th></th>\n",
       "      <th>sepal length (cm)</th>\n",
       "      <th>sepal width (cm)</th>\n",
       "      <th>petal length (cm)</th>\n",
       "      <th>petal width (cm)</th>\n",
       "      <th>target</th>\n",
       "    </tr>\n",
       "  </thead>\n",
       "  <tbody>\n",
       "    <tr>\n",
       "      <th>0</th>\n",
       "      <td>5.1</td>\n",
       "      <td>3.5</td>\n",
       "      <td>1.4</td>\n",
       "      <td>0.2</td>\n",
       "      <td>0</td>\n",
       "    </tr>\n",
       "    <tr>\n",
       "      <th>1</th>\n",
       "      <td>4.9</td>\n",
       "      <td>3.0</td>\n",
       "      <td>1.4</td>\n",
       "      <td>0.2</td>\n",
       "      <td>0</td>\n",
       "    </tr>\n",
       "    <tr>\n",
       "      <th>2</th>\n",
       "      <td>4.7</td>\n",
       "      <td>3.2</td>\n",
       "      <td>1.3</td>\n",
       "      <td>0.2</td>\n",
       "      <td>0</td>\n",
       "    </tr>\n",
       "    <tr>\n",
       "      <th>3</th>\n",
       "      <td>4.6</td>\n",
       "      <td>3.1</td>\n",
       "      <td>1.5</td>\n",
       "      <td>0.2</td>\n",
       "      <td>0</td>\n",
       "    </tr>\n",
       "    <tr>\n",
       "      <th>4</th>\n",
       "      <td>5.0</td>\n",
       "      <td>3.6</td>\n",
       "      <td>1.4</td>\n",
       "      <td>0.2</td>\n",
       "      <td>0</td>\n",
       "    </tr>\n",
       "    <tr>\n",
       "      <th>...</th>\n",
       "      <td>...</td>\n",
       "      <td>...</td>\n",
       "      <td>...</td>\n",
       "      <td>...</td>\n",
       "      <td>...</td>\n",
       "    </tr>\n",
       "    <tr>\n",
       "      <th>145</th>\n",
       "      <td>6.7</td>\n",
       "      <td>3.0</td>\n",
       "      <td>5.2</td>\n",
       "      <td>2.3</td>\n",
       "      <td>2</td>\n",
       "    </tr>\n",
       "    <tr>\n",
       "      <th>146</th>\n",
       "      <td>6.3</td>\n",
       "      <td>2.5</td>\n",
       "      <td>5.0</td>\n",
       "      <td>1.9</td>\n",
       "      <td>2</td>\n",
       "    </tr>\n",
       "    <tr>\n",
       "      <th>147</th>\n",
       "      <td>6.5</td>\n",
       "      <td>3.0</td>\n",
       "      <td>5.2</td>\n",
       "      <td>2.0</td>\n",
       "      <td>2</td>\n",
       "    </tr>\n",
       "    <tr>\n",
       "      <th>148</th>\n",
       "      <td>6.2</td>\n",
       "      <td>3.4</td>\n",
       "      <td>5.4</td>\n",
       "      <td>2.3</td>\n",
       "      <td>2</td>\n",
       "    </tr>\n",
       "    <tr>\n",
       "      <th>149</th>\n",
       "      <td>5.9</td>\n",
       "      <td>3.0</td>\n",
       "      <td>5.1</td>\n",
       "      <td>1.8</td>\n",
       "      <td>2</td>\n",
       "    </tr>\n",
       "  </tbody>\n",
       "</table>\n",
       "<p>150 rows × 5 columns</p>\n",
       "</div>"
      ],
      "text/plain": [
       "     sepal length (cm)  sepal width (cm)  petal length (cm)  petal width (cm)  \\\n",
       "0                  5.1               3.5                1.4               0.2   \n",
       "1                  4.9               3.0                1.4               0.2   \n",
       "2                  4.7               3.2                1.3               0.2   \n",
       "3                  4.6               3.1                1.5               0.2   \n",
       "4                  5.0               3.6                1.4               0.2   \n",
       "..                 ...               ...                ...               ...   \n",
       "145                6.7               3.0                5.2               2.3   \n",
       "146                6.3               2.5                5.0               1.9   \n",
       "147                6.5               3.0                5.2               2.0   \n",
       "148                6.2               3.4                5.4               2.3   \n",
       "149                5.9               3.0                5.1               1.8   \n",
       "\n",
       "     target  \n",
       "0         0  \n",
       "1         0  \n",
       "2         0  \n",
       "3         0  \n",
       "4         0  \n",
       "..      ...  \n",
       "145       2  \n",
       "146       2  \n",
       "147       2  \n",
       "148       2  \n",
       "149       2  \n",
       "\n",
       "[150 rows x 5 columns]"
      ]
     },
     "execution_count": 214,
     "metadata": {},
     "output_type": "execute_result"
    }
   ],
   "source": [
    "from sklearn.datasets import load_iris\n",
    "data=load_iris()\n",
    "df2 = pd.DataFrame(data=data.data,columns=data.feature_names)\n",
    "df2['target'] = data.target\n",
    "df2\n"
   ]
  },
  {
   "cell_type": "code",
   "execution_count": 215,
   "id": "ac6a0475",
   "metadata": {},
   "outputs": [],
   "source": [
    "X_iris = df2.drop('target',axis=1)\n",
    "y_iris = df2['target']"
   ]
  },
  {
   "cell_type": "markdown",
   "id": "441e4937",
   "metadata": {},
   "source": [
    "### 2.1. Exhaustive Feature Selection/ Best subset selection:\n",
    "Try outs all the subsets of the features and selects the best subset out of all possible cominations."
   ]
  },
  {
   "cell_type": "code",
   "execution_count": 233,
   "id": "49d4d644",
   "metadata": {},
   "outputs": [],
   "source": [
    "from mlxtend.feature_selection import ExhaustiveFeatureSelector\n",
    "EFS = ExhaustiveFeatureSelector(estimator=RF,max_features=4,cv=6,min_features=2)"
   ]
  },
  {
   "cell_type": "code",
   "execution_count": 234,
   "id": "7e02ef53",
   "metadata": {},
   "outputs": [
    {
     "name": "stderr",
     "output_type": "stream",
     "text": [
      "Features: 11/11"
     ]
    }
   ],
   "source": [
    "sel = EFS.fit(X_iris,y_iris)"
   ]
  },
  {
   "cell_type": "code",
   "execution_count": 235,
   "id": "063aee20",
   "metadata": {},
   "outputs": [
    {
     "data": {
      "text/plain": [
       "('petal length (cm)', 'petal width (cm)')"
      ]
     },
     "execution_count": 235,
     "metadata": {},
     "output_type": "execute_result"
    }
   ],
   "source": [
    "sel.best_feature_names_"
   ]
  },
  {
   "cell_type": "markdown",
   "id": "06246521",
   "metadata": {},
   "source": [
    "#### Note: As the model will check for all possible subsets, 2 best Features are selected out of all possible combinations\n",
    "#### As per the Exhaustive feature selection method PETAL LENGTH and PETAL WIDTH are the 2 best features comparing with other combinations"
   ]
  },
  {
   "cell_type": "markdown",
   "id": "4516ab71",
   "metadata": {},
   "source": [
    "#### Demerit: \n",
    "1. Computationally very expensive.\n",
    "2. Risk of overfitting "
   ]
  },
  {
   "cell_type": "markdown",
   "id": "e5fb0582",
   "metadata": {},
   "source": [
    "### 2.2. Sequential backward elimination:\n",
    "Eliminating one feature at a time starting from base model"
   ]
  },
  {
   "cell_type": "code",
   "execution_count": 236,
   "id": "c5b965eb",
   "metadata": {},
   "outputs": [],
   "source": [
    "from mlxtend.feature_selection import SequentialFeatureSelector\n",
    "SBS = SequentialFeatureSelector(estimator=RF,k_features=2,forward=False,cv=3,n_jobs=-1)"
   ]
  },
  {
   "cell_type": "code",
   "execution_count": 237,
   "id": "8201ceb7",
   "metadata": {},
   "outputs": [],
   "source": [
    "sel = SBS.fit(X_iris,y_iris)"
   ]
  },
  {
   "cell_type": "code",
   "execution_count": 238,
   "id": "788583f9",
   "metadata": {},
   "outputs": [
    {
     "data": {
      "text/plain": [
       "('sepal width (cm)', 'petal length (cm)')"
      ]
     },
     "execution_count": 238,
     "metadata": {},
     "output_type": "execute_result"
    }
   ],
   "source": [
    "sel.k_feature_names_"
   ]
  },
  {
   "cell_type": "markdown",
   "id": "79070083",
   "metadata": {},
   "source": [
    "#### As per Sequential backward selection method PETAL LENGTH and SEPAl WIDTH are the 2 best features comparing with other combinations"
   ]
  },
  {
   "cell_type": "markdown",
   "id": "7a587a78",
   "metadata": {},
   "source": [
    "### 2.3. Sequential forward elimination:\n",
    "Starting with one feature and selecting the subsequent k best features"
   ]
  },
  {
   "cell_type": "code",
   "execution_count": 239,
   "id": "e66bb769",
   "metadata": {},
   "outputs": [],
   "source": [
    "from mlxtend.feature_selection import SequentialFeatureSelector\n"
   ]
  },
  {
   "cell_type": "code",
   "execution_count": 240,
   "id": "b627f226",
   "metadata": {},
   "outputs": [],
   "source": [
    "SFS = SequentialFeatureSelector(estimator=RF,k_features=2,forward=True,cv=6,n_jobs=-1)"
   ]
  },
  {
   "cell_type": "code",
   "execution_count": 243,
   "id": "2e3188d8",
   "metadata": {},
   "outputs": [
    {
     "data": {
      "text/html": [
       "<style>#sk-container-id-13 {color: black;background-color: white;}#sk-container-id-13 pre{padding: 0;}#sk-container-id-13 div.sk-toggleable {background-color: white;}#sk-container-id-13 label.sk-toggleable__label {cursor: pointer;display: block;width: 100%;margin-bottom: 0;padding: 0.3em;box-sizing: border-box;text-align: center;}#sk-container-id-13 label.sk-toggleable__label-arrow:before {content: \"▸\";float: left;margin-right: 0.25em;color: #696969;}#sk-container-id-13 label.sk-toggleable__label-arrow:hover:before {color: black;}#sk-container-id-13 div.sk-estimator:hover label.sk-toggleable__label-arrow:before {color: black;}#sk-container-id-13 div.sk-toggleable__content {max-height: 0;max-width: 0;overflow: hidden;text-align: left;background-color: #f0f8ff;}#sk-container-id-13 div.sk-toggleable__content pre {margin: 0.2em;color: black;border-radius: 0.25em;background-color: #f0f8ff;}#sk-container-id-13 input.sk-toggleable__control:checked~div.sk-toggleable__content {max-height: 200px;max-width: 100%;overflow: auto;}#sk-container-id-13 input.sk-toggleable__control:checked~label.sk-toggleable__label-arrow:before {content: \"▾\";}#sk-container-id-13 div.sk-estimator input.sk-toggleable__control:checked~label.sk-toggleable__label {background-color: #d4ebff;}#sk-container-id-13 div.sk-label input.sk-toggleable__control:checked~label.sk-toggleable__label {background-color: #d4ebff;}#sk-container-id-13 input.sk-hidden--visually {border: 0;clip: rect(1px 1px 1px 1px);clip: rect(1px, 1px, 1px, 1px);height: 1px;margin: -1px;overflow: hidden;padding: 0;position: absolute;width: 1px;}#sk-container-id-13 div.sk-estimator {font-family: monospace;background-color: #f0f8ff;border: 1px dotted black;border-radius: 0.25em;box-sizing: border-box;margin-bottom: 0.5em;}#sk-container-id-13 div.sk-estimator:hover {background-color: #d4ebff;}#sk-container-id-13 div.sk-parallel-item::after {content: \"\";width: 100%;border-bottom: 1px solid gray;flex-grow: 1;}#sk-container-id-13 div.sk-label:hover label.sk-toggleable__label {background-color: #d4ebff;}#sk-container-id-13 div.sk-serial::before {content: \"\";position: absolute;border-left: 1px solid gray;box-sizing: border-box;top: 0;bottom: 0;left: 50%;z-index: 0;}#sk-container-id-13 div.sk-serial {display: flex;flex-direction: column;align-items: center;background-color: white;padding-right: 0.2em;padding-left: 0.2em;position: relative;}#sk-container-id-13 div.sk-item {position: relative;z-index: 1;}#sk-container-id-13 div.sk-parallel {display: flex;align-items: stretch;justify-content: center;background-color: white;position: relative;}#sk-container-id-13 div.sk-item::before, #sk-container-id-13 div.sk-parallel-item::before {content: \"\";position: absolute;border-left: 1px solid gray;box-sizing: border-box;top: 0;bottom: 0;left: 50%;z-index: -1;}#sk-container-id-13 div.sk-parallel-item {display: flex;flex-direction: column;z-index: 1;position: relative;background-color: white;}#sk-container-id-13 div.sk-parallel-item:first-child::after {align-self: flex-end;width: 50%;}#sk-container-id-13 div.sk-parallel-item:last-child::after {align-self: flex-start;width: 50%;}#sk-container-id-13 div.sk-parallel-item:only-child::after {width: 0;}#sk-container-id-13 div.sk-dashed-wrapped {border: 1px dashed gray;margin: 0 0.4em 0.5em 0.4em;box-sizing: border-box;padding-bottom: 0.4em;background-color: white;}#sk-container-id-13 div.sk-label label {font-family: monospace;font-weight: bold;display: inline-block;line-height: 1.2em;}#sk-container-id-13 div.sk-label-container {text-align: center;}#sk-container-id-13 div.sk-container {/* jupyter's `normalize.less` sets `[hidden] { display: none; }` but bootstrap.min.css set `[hidden] { display: none !important; }` so we also need the `!important` here to be able to override the default hidden behavior on the sphinx rendered scikit-learn.org. See: https://github.com/scikit-learn/scikit-learn/issues/21755 */display: inline-block !important;position: relative;}#sk-container-id-13 div.sk-text-repr-fallback {display: none;}</style><div id=\"sk-container-id-13\" class=\"sk-top-container\"><div class=\"sk-text-repr-fallback\"><pre>SequentialFeatureSelector(cv=6,\n",
       "                          estimator=RandomForestClassifier(n_estimators=30,\n",
       "                                                           n_jobs=1),\n",
       "                          k_features=(2, 2), n_jobs=-1, scoring=&#x27;accuracy&#x27;)</pre><b>In a Jupyter environment, please rerun this cell to show the HTML representation or trust the notebook. <br />On GitHub, the HTML representation is unable to render, please try loading this page with nbviewer.org.</b></div><div class=\"sk-container\" hidden><div class=\"sk-item sk-dashed-wrapped\"><div class=\"sk-label-container\"><div class=\"sk-label sk-toggleable\"><input class=\"sk-toggleable__control sk-hidden--visually\" id=\"sk-estimator-id-15\" type=\"checkbox\" ><label for=\"sk-estimator-id-15\" class=\"sk-toggleable__label sk-toggleable__label-arrow\">SequentialFeatureSelector</label><div class=\"sk-toggleable__content\"><pre>SequentialFeatureSelector(cv=6,\n",
       "                          estimator=RandomForestClassifier(n_estimators=30,\n",
       "                                                           n_jobs=1),\n",
       "                          k_features=(2, 2), n_jobs=-1, scoring=&#x27;accuracy&#x27;)</pre></div></div></div><div class=\"sk-parallel\"><div class=\"sk-parallel-item\"><div class=\"sk-item\"><div class=\"sk-label-container\"><div class=\"sk-label sk-toggleable\"><input class=\"sk-toggleable__control sk-hidden--visually\" id=\"sk-estimator-id-16\" type=\"checkbox\" ><label for=\"sk-estimator-id-16\" class=\"sk-toggleable__label sk-toggleable__label-arrow\">estimator: RandomForestClassifier</label><div class=\"sk-toggleable__content\"><pre>RandomForestClassifier(n_estimators=30, n_jobs=1)</pre></div></div></div><div class=\"sk-serial\"><div class=\"sk-item\"><div class=\"sk-estimator sk-toggleable\"><input class=\"sk-toggleable__control sk-hidden--visually\" id=\"sk-estimator-id-17\" type=\"checkbox\" ><label for=\"sk-estimator-id-17\" class=\"sk-toggleable__label sk-toggleable__label-arrow\">RandomForestClassifier</label><div class=\"sk-toggleable__content\"><pre>RandomForestClassifier(n_estimators=30, n_jobs=1)</pre></div></div></div></div></div></div></div></div></div></div>"
      ],
      "text/plain": [
       "SequentialFeatureSelector(cv=6,\n",
       "                          estimator=RandomForestClassifier(n_estimators=30,\n",
       "                                                           n_jobs=1),\n",
       "                          k_features=(2, 2), n_jobs=-1, scoring='accuracy')"
      ]
     },
     "execution_count": 243,
     "metadata": {},
     "output_type": "execute_result"
    }
   ],
   "source": [
    "sel = SFS.fit(X_iris,y_iris)\n",
    "sel"
   ]
  },
  {
   "cell_type": "code",
   "execution_count": 245,
   "id": "a12eef60",
   "metadata": {},
   "outputs": [
    {
     "data": {
      "text/plain": [
       "('petal length (cm)', 'petal width (cm)')"
      ]
     },
     "execution_count": 245,
     "metadata": {},
     "output_type": "execute_result"
    }
   ],
   "source": [
    "sel.k_feature_names_\n"
   ]
  },
  {
   "cell_type": "markdown",
   "id": "1d7b1b49",
   "metadata": {},
   "source": [
    "#### As per Sequential forward selection method PETAL LENGTH and PETAL WIDTH are the 2 best features comparing with other combinations\n"
   ]
  },
  {
   "cell_type": "markdown",
   "id": "39ac1758",
   "metadata": {},
   "source": [
    "#### disvantages:\n",
    "Time complexity: Eventhough it is much faster than Exhaustive feature selection. It will take considerable amount of time for computations"
   ]
  },
  {
   "cell_type": "markdown",
   "id": "d448d4fc",
   "metadata": {},
   "source": [
    "## 3. Embedded Methods:\n",
    "Embeded methods aims to overcome the limitations of Filter methods and Wrapper methods.\n",
    "Limitations of other methods:\n",
    "\n",
    "1. Filter based methods: Neglects wither feature - feature or feature - target interactions\n",
    "2. Wrapper Methods: Computationally expensive\n",
    "\n",
    "\n",
    "Embeded methods includes both the interactions and offers great computational efficiency.\n",
    "\n",
    "As the name suggests these are the techniques that are embeded within the model itself. \n",
    "Here is the list of models that comes under this category:\n",
    "\n",
    "1. Models that involves feature importance calculations:\n",
    "\n",
    "    a. Decision Tree\n",
    "    \n",
    "    b. Random Forest\n",
    "    \n",
    "    \n",
    "2. Models that contains coeff_:\n",
    "\n",
    "    a. Linear regression\n",
    "    \n",
    "    b. Logistic regression\n",
    "    \n",
    "    c. Regularization models:\n",
    "        i. Ridge\n",
    "        ii. Lasso\n",
    "        iii. Elastic Net"
   ]
  },
  {
   "cell_type": "markdown",
   "id": "31e5376d",
   "metadata": {},
   "source": [
    "## 4. Hybrid methods:\n",
    "Combination of any 2 of the above methods"
   ]
  },
  {
   "cell_type": "markdown",
   "id": "9db8d190",
   "metadata": {},
   "source": [
    "### 4.1. Recurssive Feature Elimination method:\n",
    "Using any model that calculates the Feature importance and eliminate the features that are least important in a recursive manner"
   ]
  },
  {
   "cell_type": "code",
   "execution_count": 246,
   "id": "3598fc50",
   "metadata": {},
   "outputs": [],
   "source": [
    "from sklearn.feature_selection import RFE\n"
   ]
  },
  {
   "cell_type": "markdown",
   "id": "f8698b5a",
   "metadata": {},
   "source": [
    "#### Implementing the RFE method on the Financial Distress data frame. "
   ]
  },
  {
   "cell_type": "code",
   "execution_count": 250,
   "id": "df389521",
   "metadata": {},
   "outputs": [
    {
     "name": "stdout",
     "output_type": "stream",
     "text": [
      "Fitting estimator with 85 features.\n",
      "Fitting estimator with 84 features.\n",
      "Fitting estimator with 83 features.\n",
      "Fitting estimator with 82 features.\n",
      "Fitting estimator with 81 features.\n",
      "Fitting estimator with 80 features.\n",
      "Fitting estimator with 79 features.\n",
      "Fitting estimator with 78 features.\n",
      "Fitting estimator with 77 features.\n",
      "Fitting estimator with 76 features.\n",
      "Fitting estimator with 75 features.\n",
      "Fitting estimator with 74 features.\n",
      "Fitting estimator with 73 features.\n",
      "Fitting estimator with 72 features.\n",
      "Fitting estimator with 71 features.\n",
      "Fitting estimator with 70 features.\n",
      "Fitting estimator with 69 features.\n",
      "Fitting estimator with 68 features.\n",
      "Fitting estimator with 67 features.\n",
      "Fitting estimator with 66 features.\n",
      "Fitting estimator with 65 features.\n",
      "Fitting estimator with 64 features.\n",
      "Fitting estimator with 63 features.\n",
      "Fitting estimator with 62 features.\n",
      "Fitting estimator with 61 features.\n",
      "Fitting estimator with 60 features.\n",
      "Fitting estimator with 59 features.\n",
      "Fitting estimator with 58 features.\n",
      "Fitting estimator with 57 features.\n",
      "Fitting estimator with 56 features.\n",
      "Fitting estimator with 55 features.\n",
      "Fitting estimator with 54 features.\n",
      "Fitting estimator with 53 features.\n",
      "Fitting estimator with 52 features.\n",
      "Fitting estimator with 51 features.\n",
      "Fitting estimator with 50 features.\n",
      "Fitting estimator with 49 features.\n",
      "Fitting estimator with 48 features.\n",
      "Fitting estimator with 47 features.\n",
      "Fitting estimator with 46 features.\n",
      "Fitting estimator with 45 features.\n",
      "Fitting estimator with 44 features.\n",
      "Fitting estimator with 43 features.\n",
      "Fitting estimator with 42 features.\n",
      "Fitting estimator with 41 features.\n",
      "Fitting estimator with 40 features.\n",
      "Fitting estimator with 39 features.\n",
      "Fitting estimator with 38 features.\n",
      "Fitting estimator with 37 features.\n",
      "Fitting estimator with 36 features.\n",
      "Fitting estimator with 35 features.\n",
      "Fitting estimator with 34 features.\n",
      "Fitting estimator with 33 features.\n",
      "Fitting estimator with 32 features.\n",
      "Fitting estimator with 31 features.\n",
      "Fitting estimator with 30 features.\n",
      "Fitting estimator with 29 features.\n",
      "Fitting estimator with 28 features.\n",
      "Fitting estimator with 27 features.\n",
      "Fitting estimator with 26 features.\n",
      "Fitting estimator with 25 features.\n",
      "Fitting estimator with 24 features.\n",
      "Fitting estimator with 23 features.\n",
      "Fitting estimator with 22 features.\n",
      "Fitting estimator with 21 features.\n"
     ]
    }
   ],
   "source": [
    "RFE_sel = RFE(estimator=RF,n_features_to_select=20,verbose=True)\n",
    "sel = RFE_sel.fit(X,y)"
   ]
  },
  {
   "cell_type": "code",
   "execution_count": 254,
   "id": "960796bc",
   "metadata": {},
   "outputs": [
    {
     "data": {
      "text/plain": [
       "array([27, 65, 49,  1,  1, 30,  1, 28, 56,  7,  1,  1, 44,  1,  1,  1, 37,\n",
       "        8, 38,  3, 17, 26, 15, 29, 20,  9,  1, 19,  1, 16, 14, 48, 33, 36,\n",
       "       35, 31, 40,  1,  6, 32, 11, 22, 41,  5, 18,  1, 21,  1,  1,  1,  1,\n",
       "        4, 57, 10,  1,  1, 43, 24,  1, 25, 12, 61,  2, 45, 51, 42, 39, 47,\n",
       "       46, 54, 63, 58, 59, 66, 62, 55, 34, 23, 64, 60, 52, 50,  1, 53, 13])"
      ]
     },
     "execution_count": 254,
     "metadata": {},
     "output_type": "execute_result"
    }
   ],
   "source": [
    "sel.ranking_"
   ]
  },
  {
   "cell_type": "code",
   "execution_count": 261,
   "id": "ede141be",
   "metadata": {},
   "outputs": [],
   "source": [
    "X_hybrid = X[X.columns[sel.get_support()]]"
   ]
  },
  {
   "cell_type": "code",
   "execution_count": 263,
   "id": "3cab36fa",
   "metadata": {},
   "outputs": [
    {
     "name": "stdout",
     "output_type": "stream",
     "text": [
      "0.9588779956427015\n"
     ]
    }
   ],
   "source": [
    "print(cross_val_score(estimator=RF,X=X_hybrid,y=y,cv=6).mean())"
   ]
  },
  {
   "cell_type": "markdown",
   "id": "b2cf196e",
   "metadata": {},
   "source": [
    "#### With the help of Hybrid selection technique. Best 20 possible features are selected without affecting the accuracy of the model.\n"
   ]
  },
  {
   "cell_type": "markdown",
   "id": "afc99395",
   "metadata": {},
   "source": [
    "### Advantages of feature selection:\n",
    "##### 1. Reduced curse of dimensionality\n",
    "##### 2. Improved performance\n",
    "##### 3. Improved Interpretability and \n",
    "##### 4. avoiding overfitting of the model"
   ]
  },
  {
   "cell_type": "code",
   "execution_count": null,
   "id": "f8bcec19",
   "metadata": {},
   "outputs": [],
   "source": []
  }
 ],
 "metadata": {
  "kernelspec": {
   "display_name": "Python 3 (ipykernel)",
   "language": "python",
   "name": "python3"
  },
  "language_info": {
   "codemirror_mode": {
    "name": "ipython",
    "version": 3
   },
   "file_extension": ".py",
   "mimetype": "text/x-python",
   "name": "python",
   "nbconvert_exporter": "python",
   "pygments_lexer": "ipython3",
   "version": "3.9.12"
  }
 },
 "nbformat": 4,
 "nbformat_minor": 5
}
